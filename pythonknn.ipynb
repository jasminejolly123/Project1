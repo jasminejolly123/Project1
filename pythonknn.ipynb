{
  "nbformat": 4,
  "nbformat_minor": 0,
  "metadata": {
    "colab": {
      "provenance": [],
      "toc_visible": true,
      "authorship_tag": "ABX9TyNIZXCcUU2tAfyxIpdO66aA",
      "include_colab_link": true
    },
    "kernelspec": {
      "name": "python3",
      "display_name": "Python 3"
    },
    "language_info": {
      "name": "python"
    }
  },
  "cells": [
    {
      "cell_type": "markdown",
      "metadata": {
        "id": "view-in-github",
        "colab_type": "text"
      },
      "source": [
        "<a href=\"https://colab.research.google.com/github/jasminejolly123/Project1/blob/master/pythonknn.ipynb\" target=\"_parent\"><img src=\"https://colab.research.google.com/assets/colab-badge.svg\" alt=\"Open In Colab\"/></a>"
      ]
    },
    {
      "cell_type": "code",
      "execution_count": 19,
      "metadata": {
        "colab": {
          "base_uri": "https://localhost:8080/"
        },
        "id": "MTXtr_t0a2kG",
        "outputId": "a7dbcdce-b44e-4bfb-ebd3-88495ba81431"
      },
      "outputs": [
        {
          "output_type": "stream",
          "name": "stdout",
          "text": [
            "kNN Regressor (k=5): Train score = 0.5727, Test score = 0.4031\n"
          ]
        }
      ],
      "source": [
        "from sklearn.linear_model import Lasso, Ridge\n",
        "from sklearn.datasets import load_diabetes\n",
        "from sklearn.model_selection import GridSearchCV\n",
        "from sklearn.neighbors import KNeighborsRegressor\n",
        "import numpy as np\n",
        "\n",
        "# Load the diabetes dataset\n",
        "diabetes = load_diabetes()\n",
        "X, y = diabetes.data, diabetes.target\n",
        "\n",
        "# Create a Pandas DataFrame for X with feature names\n",
        "X = pd.DataFrame(X, columns=diabetes.feature_names)\n",
        "\n",
        "# Split data into training and testing sets\n",
        "X_train, X_test, y_train, y_test = train_test_split(X, y, test_size=0.3, random_state=42) # Added this line to define X_train and X_test\n",
        "\n",
        "# Define a list of alphas to check\n",
        "alphas = np.logspace(-6, 6, 13)\n",
        "\n",
        "# Retrain using best alphas\n",
        "optimal_alpha_lasso = lasso_regressor.best_params_['alpha']\n",
        "optimal_alpha_ridge = ridge_regressor.best_params_['alpha']\n",
        "\n",
        "lasso_optimal = Lasso(alpha=optimal_alpha_lasso)\n",
        "ridge_optimal = Ridge(alpha=optimal_alpha_ridge)\n",
        "\n",
        "lasso_optimal.fit(X_train, y_train)\n",
        "ridge_optimal.fit(X_train, y_train)\n",
        "\n",
        "# Initialize kNN regressor with k=5\n",
        "knn_regressor = KNeighborsRegressor(n_neighbors=5)\n",
        "\n",
        "# Train the model\n",
        "knn_regressor.fit(X_train, y_train)\n",
        "\n",
        "# Predict and score\n",
        "knn_train_score = knn_regressor.score(X_train, y_train)\n",
        "knn_test_score = knn_regressor.score(X_test, y_test)\n",
        "\n",
        "print(f\"kNN Regressor (k=5): Train score = {knn_train_score:.4f}, Test score = {knn_test_score:.4f}\")\n"
      ]
    }
  ]
}