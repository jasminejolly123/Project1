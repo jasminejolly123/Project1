{
  "nbformat": 4,
  "nbformat_minor": 0,
  "metadata": {
    "colab": {
      "provenance": [],
      "toc_visible": true,
      "authorship_tag": "ABX9TyOJ7CKUZ5hs1aJa4jVhFHI2",
      "include_colab_link": true
    },
    "kernelspec": {
      "name": "python3",
      "display_name": "Python 3"
    },
    "language_info": {
      "name": "python"
    }
  },
  "cells": [
    {
      "cell_type": "markdown",
      "metadata": {
        "id": "view-in-github",
        "colab_type": "text"
      },
      "source": [
        "<a href=\"https://colab.research.google.com/github/jasminejolly123/Project1/blob/master/pythoncloseenough.ipynb\" target=\"_parent\"><img src=\"https://colab.research.google.com/assets/colab-badge.svg\" alt=\"Open In Colab\"/></a>"
      ]
    },
    {
      "cell_type": "code",
      "execution_count": 18,
      "metadata": {
        "colab": {
          "base_uri": "https://localhost:8080/"
        },
        "id": "MTXtr_t0a2kG",
        "outputId": "3956fb2b-d4f1-4670-d6f5-5ae71344e5ff"
      },
      "outputs": [
        {
          "output_type": "stream",
          "name": "stdout",
          "text": [
            "Optimal Lasso: Train score = 0.5231, Test score = 0.4787\n",
            "Optimal Ridge: Train score = 0.5226, Test score = 0.4777\n"
          ]
        }
      ],
      "source": [
        "from sklearn.linear_model import Lasso, Ridge\n",
        "from sklearn.datasets import load_diabetes\n",
        "from sklearn.model_selection import GridSearchCV\n",
        "import numpy as np\n",
        "\n",
        "# Load the diabetes dataset\n",
        "diabetes = load_diabetes()\n",
        "X, y = diabetes.data, diabetes.target\n",
        "\n",
        "# Create a Pandas DataFrame for X with feature names\n",
        "X = pd.DataFrame(X, columns=diabetes.feature_names)\n",
        "\n",
        "# Split data into training and testing sets\n",
        "X_train, X_test, y_train, y_test = train_test_split(X, y, test_size=0.3, random_state=42) # Added this line to define X_train and X_test\n",
        "\n",
        "# Define a list of alphas to check\n",
        "alphas = np.logspace(-6, 6, 13)\n",
        "\n",
        "# Retrain using best alphas\n",
        "optimal_alpha_lasso = lasso_regressor.best_params_['alpha']\n",
        "optimal_alpha_ridge = ridge_regressor.best_params_['alpha']\n",
        "\n",
        "lasso_optimal = Lasso(alpha=optimal_alpha_lasso)\n",
        "ridge_optimal = Ridge(alpha=optimal_alpha_ridge)\n",
        "\n",
        "lasso_optimal.fit(X_train, y_train)\n",
        "ridge_optimal.fit(X_train, y_train)\n",
        "\n",
        "# Lasso Regression with CV\n",
        "ridge = Ridge()\n",
        "parameters = {'alpha': alphas}\n",
        "ridge_regressor = GridSearchCV(lasso, parameters, scoring='r2', cv=5)\n",
        "ridge_regressor.fit(X_train, y_train)\n",
        "\n",
        "lasso_optimal_train_score = lasso_optimal.score(X_train, y_train)\n",
        "lasso_optimal_test_score = lasso_optimal.score(X_test, y_test)\n",
        "ridge_optimal_train_score = ridge_optimal.score(X_train, y_train)\n",
        "ridge_optimal_test_score = ridge_optimal.score(X_test, y_test)\n",
        "\n",
        "# Print out scores for comparison\n",
        "print(\"Optimal Lasso: Train score = {:.4f}, Test score = {:.4f}\".format(lasso_optimal_train_score, lasso_optimal_test_score))\n",
        "print(\"Optimal Ridge: Train score = {:.4f}, Test score = {:.4f}\".format(ridge_optimal_train_score, ridge_optimal_test_score))"
      ]
    }
  ]
}