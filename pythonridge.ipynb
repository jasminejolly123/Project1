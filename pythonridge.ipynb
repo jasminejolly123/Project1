{
  "nbformat": 4,
  "nbformat_minor": 0,
  "metadata": {
    "colab": {
      "provenance": [],
      "toc_visible": true,
      "authorship_tag": "ABX9TyMnE50GAaW3It+GeoLsEPFg",
      "include_colab_link": true
    },
    "kernelspec": {
      "name": "python3",
      "display_name": "Python 3"
    },
    "language_info": {
      "name": "python"
    }
  },
  "cells": [
    {
      "cell_type": "markdown",
      "metadata": {
        "id": "view-in-github",
        "colab_type": "text"
      },
      "source": [
        "<a href=\"https://colab.research.google.com/github/jasminejolly123/Project1/blob/master/pythonridge.ipynb\" target=\"_parent\"><img src=\"https://colab.research.google.com/assets/colab-badge.svg\" alt=\"Open In Colab\"/></a>"
      ]
    },
    {
      "cell_type": "code",
      "execution_count": 13,
      "metadata": {
        "colab": {
          "base_uri": "https://localhost:8080/"
        },
        "id": "MTXtr_t0a2kG",
        "outputId": "938c4720-7228-4842-963a-ede6e1b8ad74"
      },
      "outputs": [
        {
          "output_type": "stream",
          "name": "stdout",
          "text": [
            "Lasso Coefficients:\n",
            "  feature  coefficient\n",
            "0     age    45.054210\n",
            "1     sex   -71.947397\n",
            "2     bmi   280.716252\n",
            "3      bp   195.212662\n",
            "4      s1    -2.229303\n",
            "5      s2   -17.540797\n",
            "6      s3  -148.688862\n",
            "7      s4   120.467240\n",
            "8      s5   198.614401\n",
            "9      s6   106.934692\n",
            "\n",
            "Ridge Train score: 0.4283\n",
            "Ridge Test score: 0.4233\n"
          ]
        }
      ],
      "source": [
        "from sklearn.linear_model import Lasso, Ridge\n",
        "from sklearn.datasets import load_diabetes\n",
        "\n",
        "# Load the diabetes dataset\n",
        "diabetes = load_diabetes()\n",
        "X, y = diabetes.data, diabetes.target\n",
        "\n",
        "# Create a Pandas DataFrame for X with feature names\n",
        "X = pd.DataFrame(X, columns=diabetes.feature_names)\n",
        "\n",
        "# Split data into training and testing sets\n",
        "X_train, X_test, y_train, y_test = train_test_split(X, y, test_size=0.3, random_state=42) # Added this line to define X_train and X_test\n",
        "\n",
        "# Lasso Regression\n",
        "ridge = Ridge(alpha=1.0)\n",
        "ridge.fit(X_train, y_train)\n",
        "ridge_coeffs = pd.DataFrame({'feature': X.columns, 'coefficient': ridge.coef_})\n",
        "print(\"Lasso Coefficients:\")\n",
        "print(ridge_coeffs)\n",
        "\n",
        "# Scoring\n",
        "ridge_train_score = ridge.score(X_train, y_train)\n",
        "ridge_test_score = ridge.score(X_test, y_test)\n",
        "\n",
        "print(f\"\\nRidge Train score: {ridge_train_score:.4f}\")\n",
        "print(f\"Ridge Test score: {ridge_test_score:.4f}\")"
      ]
    }
  ]
}